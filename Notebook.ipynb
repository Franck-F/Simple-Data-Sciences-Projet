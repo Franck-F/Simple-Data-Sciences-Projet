{
 "cells": [
  {
   "cell_type": "markdown",
   "metadata": {},
   "source": [
    "#  (New York City) Analyse des trajets en Taxi"
   ]
  },
  {
   "cell_type": "markdown",
   "metadata": {},
   "source": [
    "### Ressources :\n",
    "\n",
    "* lien des données : https://www.nyc.gov/site/tlc/about/tlc-trip-record-data.page\n",
    "\n",
    "* Description des variables des données sur les trajets en taxi jaune : https://www.nyc.gov/assets/tlc/downloads/pdf/data_dictionary_trip_records_yellow.pdf\n",
    "\n",
    "* Comment importer un fichier PARQUET de données : https://www.nyc.gov/assets/tlc/downloads/pdf/working_parquet_format.pdf\n",
    "\n",
    "* Apache Arrow : https://arrow.apache.org/docs/python/parquet.html\n",
    "\n"
   ]
  },
  {
   "cell_type": "markdown",
   "metadata": {},
   "source": [
    "#### I/ Automatisation du téléchargement des données"
   ]
  },
  {
   "cell_type": "code",
   "execution_count": 9,
   "metadata": {},
   "outputs": [],
   "source": [
    "import pandas as pd\n",
    "import numpy as np\n",
    "import pyarrow.parquet as pq"
   ]
  },
  {
   "cell_type": "code",
   "execution_count": 10,
   "metadata": {},
   "outputs": [
    {
     "data": {
      "text/plain": [
       "pyarrow.lib.Table"
      ]
     },
     "execution_count": 10,
     "metadata": {},
     "output_type": "execute_result"
    }
   ],
   "source": [
    "df = pq.read_table(\"yellow_tripdata_2024-09.parquet\")\n",
    "type(df)"
   ]
  },
  {
   "cell_type": "markdown",
   "metadata": {},
   "source": [
    "***\"pyarrow.lib.Table\" fait reference aux tables SQL***"
   ]
  },
  {
   "cell_type": "code",
   "execution_count": 11,
   "metadata": {},
   "outputs": [
    {
     "data": {
      "text/html": [
       "<div>\n",
       "<style scoped>\n",
       "    .dataframe tbody tr th:only-of-type {\n",
       "        vertical-align: middle;\n",
       "    }\n",
       "\n",
       "    .dataframe tbody tr th {\n",
       "        vertical-align: top;\n",
       "    }\n",
       "\n",
       "    .dataframe thead th {\n",
       "        text-align: right;\n",
       "    }\n",
       "</style>\n",
       "<table border=\"1\" class=\"dataframe\">\n",
       "  <thead>\n",
       "    <tr style=\"text-align: right;\">\n",
       "      <th></th>\n",
       "      <th>VendorID</th>\n",
       "      <th>tpep_pickup_datetime</th>\n",
       "      <th>tpep_dropoff_datetime</th>\n",
       "      <th>passenger_count</th>\n",
       "      <th>trip_distance</th>\n",
       "      <th>RatecodeID</th>\n",
       "      <th>store_and_fwd_flag</th>\n",
       "      <th>PULocationID</th>\n",
       "      <th>DOLocationID</th>\n",
       "      <th>payment_type</th>\n",
       "      <th>fare_amount</th>\n",
       "      <th>extra</th>\n",
       "      <th>mta_tax</th>\n",
       "      <th>tip_amount</th>\n",
       "      <th>tolls_amount</th>\n",
       "      <th>improvement_surcharge</th>\n",
       "      <th>total_amount</th>\n",
       "      <th>congestion_surcharge</th>\n",
       "      <th>Airport_fee</th>\n",
       "    </tr>\n",
       "  </thead>\n",
       "  <tbody>\n",
       "    <tr>\n",
       "      <th>0</th>\n",
       "      <td>1</td>\n",
       "      <td>2024-09-01 00:05:51</td>\n",
       "      <td>2024-09-01 00:45:03</td>\n",
       "      <td>1.0</td>\n",
       "      <td>9.80</td>\n",
       "      <td>1.0</td>\n",
       "      <td>N</td>\n",
       "      <td>138</td>\n",
       "      <td>48</td>\n",
       "      <td>1</td>\n",
       "      <td>47.8</td>\n",
       "      <td>10.25</td>\n",
       "      <td>0.5</td>\n",
       "      <td>13.30</td>\n",
       "      <td>6.94</td>\n",
       "      <td>1.0</td>\n",
       "      <td>79.79</td>\n",
       "      <td>2.5</td>\n",
       "      <td>1.75</td>\n",
       "    </tr>\n",
       "    <tr>\n",
       "      <th>1</th>\n",
       "      <td>1</td>\n",
       "      <td>2024-09-01 00:59:35</td>\n",
       "      <td>2024-09-01 01:03:43</td>\n",
       "      <td>1.0</td>\n",
       "      <td>0.50</td>\n",
       "      <td>1.0</td>\n",
       "      <td>N</td>\n",
       "      <td>140</td>\n",
       "      <td>141</td>\n",
       "      <td>1</td>\n",
       "      <td>5.1</td>\n",
       "      <td>3.50</td>\n",
       "      <td>0.5</td>\n",
       "      <td>3.00</td>\n",
       "      <td>0.00</td>\n",
       "      <td>1.0</td>\n",
       "      <td>13.10</td>\n",
       "      <td>2.5</td>\n",
       "      <td>0.00</td>\n",
       "    </tr>\n",
       "    <tr>\n",
       "      <th>2</th>\n",
       "      <td>2</td>\n",
       "      <td>2024-09-01 00:25:00</td>\n",
       "      <td>2024-09-01 00:34:37</td>\n",
       "      <td>2.0</td>\n",
       "      <td>2.29</td>\n",
       "      <td>1.0</td>\n",
       "      <td>N</td>\n",
       "      <td>238</td>\n",
       "      <td>152</td>\n",
       "      <td>2</td>\n",
       "      <td>13.5</td>\n",
       "      <td>1.00</td>\n",
       "      <td>0.5</td>\n",
       "      <td>0.00</td>\n",
       "      <td>0.00</td>\n",
       "      <td>1.0</td>\n",
       "      <td>16.00</td>\n",
       "      <td>0.0</td>\n",
       "      <td>0.00</td>\n",
       "    </tr>\n",
       "    <tr>\n",
       "      <th>3</th>\n",
       "      <td>2</td>\n",
       "      <td>2024-09-01 00:31:00</td>\n",
       "      <td>2024-09-01 00:46:52</td>\n",
       "      <td>1.0</td>\n",
       "      <td>5.20</td>\n",
       "      <td>1.0</td>\n",
       "      <td>N</td>\n",
       "      <td>93</td>\n",
       "      <td>130</td>\n",
       "      <td>1</td>\n",
       "      <td>24.7</td>\n",
       "      <td>1.00</td>\n",
       "      <td>0.5</td>\n",
       "      <td>4.55</td>\n",
       "      <td>0.00</td>\n",
       "      <td>1.0</td>\n",
       "      <td>31.75</td>\n",
       "      <td>0.0</td>\n",
       "      <td>0.00</td>\n",
       "    </tr>\n",
       "    <tr>\n",
       "      <th>4</th>\n",
       "      <td>2</td>\n",
       "      <td>2024-09-01 00:11:57</td>\n",
       "      <td>2024-09-01 00:30:41</td>\n",
       "      <td>2.0</td>\n",
       "      <td>2.26</td>\n",
       "      <td>1.0</td>\n",
       "      <td>N</td>\n",
       "      <td>79</td>\n",
       "      <td>231</td>\n",
       "      <td>1</td>\n",
       "      <td>17.0</td>\n",
       "      <td>1.00</td>\n",
       "      <td>0.5</td>\n",
       "      <td>4.40</td>\n",
       "      <td>0.00</td>\n",
       "      <td>1.0</td>\n",
       "      <td>26.40</td>\n",
       "      <td>2.5</td>\n",
       "      <td>0.00</td>\n",
       "    </tr>\n",
       "  </tbody>\n",
       "</table>\n",
       "</div>"
      ],
      "text/plain": [
       "   VendorID tpep_pickup_datetime tpep_dropoff_datetime  passenger_count  \\\n",
       "0         1  2024-09-01 00:05:51   2024-09-01 00:45:03              1.0   \n",
       "1         1  2024-09-01 00:59:35   2024-09-01 01:03:43              1.0   \n",
       "2         2  2024-09-01 00:25:00   2024-09-01 00:34:37              2.0   \n",
       "3         2  2024-09-01 00:31:00   2024-09-01 00:46:52              1.0   \n",
       "4         2  2024-09-01 00:11:57   2024-09-01 00:30:41              2.0   \n",
       "\n",
       "   trip_distance  RatecodeID store_and_fwd_flag  PULocationID  DOLocationID  \\\n",
       "0           9.80         1.0                  N           138            48   \n",
       "1           0.50         1.0                  N           140           141   \n",
       "2           2.29         1.0                  N           238           152   \n",
       "3           5.20         1.0                  N            93           130   \n",
       "4           2.26         1.0                  N            79           231   \n",
       "\n",
       "   payment_type  fare_amount  extra  mta_tax  tip_amount  tolls_amount  \\\n",
       "0             1         47.8  10.25      0.5       13.30          6.94   \n",
       "1             1          5.1   3.50      0.5        3.00          0.00   \n",
       "2             2         13.5   1.00      0.5        0.00          0.00   \n",
       "3             1         24.7   1.00      0.5        4.55          0.00   \n",
       "4             1         17.0   1.00      0.5        4.40          0.00   \n",
       "\n",
       "   improvement_surcharge  total_amount  congestion_surcharge  Airport_fee  \n",
       "0                    1.0         79.79                   2.5         1.75  \n",
       "1                    1.0         13.10                   2.5         0.00  \n",
       "2                    1.0         16.00                   0.0         0.00  \n",
       "3                    1.0         31.75                   0.0         0.00  \n",
       "4                    1.0         26.40                   2.5         0.00  "
      ]
     },
     "execution_count": 11,
     "metadata": {},
     "output_type": "execute_result"
    }
   ],
   "source": [
    "#conversion en dataframe pandas\n",
    "df = df.to_pandas()\n",
    "df.head()"
   ]
  },
  {
   "cell_type": "code",
   "execution_count": 12,
   "metadata": {},
   "outputs": [
    {
     "data": {
      "text/plain": [
       "(3633030, 19)"
      ]
     },
     "execution_count": 12,
     "metadata": {},
     "output_type": "execute_result"
    }
   ],
   "source": [
    "df.shape"
   ]
  },
  {
   "cell_type": "markdown",
   "metadata": {},
   "source": [
    "#### Automatisons à présent le processus de collecte de paquet de données"
   ]
  },
  {
   "cell_type": "code",
   "execution_count": 31,
   "metadata": {},
   "outputs": [],
   "source": [
    "import requests\n",
    "import os"
   ]
  },
  {
   "cell_type": "code",
   "execution_count": 32,
   "metadata": {},
   "outputs": [],
   "source": [
    "#Créons le dossier qui contiendra les paquet de données collectés\n",
    "os.makedirs('yellow_tripdata_taxis', exist_ok=True)"
   ]
  },
  {
   "cell_type": "markdown",
   "metadata": {},
   "source": [
    "* Exemple de lien du paquet de données pour Janvier 2024: https://d37ci6vzurychx.cloudfront.net/trip-data/yellow_tripdata_2024-01.parquet"
   ]
  },
  {
   "cell_type": "code",
   "execution_count": 20,
   "metadata": {},
   "outputs": [
    {
     "name": "stdout",
     "output_type": "stream",
     "text": [
      "Téléchargement du fichier yellow_tripdata/yellow_tripdata_2024-01.parquet...\n",
      "Téléchargement du fichier yellow_tripdata/yellow_tripdata_2024-02.parquet...\n",
      "Téléchargement du fichier yellow_tripdata/yellow_tripdata_2024-03.parquet...\n",
      "Téléchargement du fichier yellow_tripdata/yellow_tripdata_2024-04.parquet...\n",
      "Téléchargement du fichier yellow_tripdata/yellow_tripdata_2024-05.parquet...\n",
      "Téléchargement du fichier yellow_tripdata/yellow_tripdata_2024-06.parquet...\n",
      "Téléchargement du fichier yellow_tripdata/yellow_tripdata_2024-07.parquet...\n",
      "Téléchargement du fichier yellow_tripdata/yellow_tripdata_2024-08.parquet...\n",
      "Téléchargement du fichier yellow_tripdata/yellow_tripdata_2024-09.parquet...\n",
      "Téléchargement du fichier yellow_tripdata/yellow_tripdata_2024-10.parquet...\n",
      "Téléchargement du fichier yellow_tripdata/yellow_tripdata_2024-11.parquet...\n",
      "Téléchargement du fichier yellow_tripdata/yellow_tripdata_2024-12.parquet...\n",
      "Téléchargement du fichier yellow_tripdata/yellow_tripdata_2023-01.parquet...\n",
      "Téléchargement du fichier yellow_tripdata/yellow_tripdata_2023-02.parquet...\n",
      "Téléchargement du fichier yellow_tripdata/yellow_tripdata_2023-03.parquet...\n",
      "Téléchargement du fichier yellow_tripdata/yellow_tripdata_2023-04.parquet...\n",
      "Téléchargement du fichier yellow_tripdata/yellow_tripdata_2023-05.parquet...\n",
      "Téléchargement du fichier yellow_tripdata/yellow_tripdata_2023-06.parquet...\n",
      "Téléchargement du fichier yellow_tripdata/yellow_tripdata_2023-07.parquet...\n",
      "Téléchargement du fichier yellow_tripdata/yellow_tripdata_2023-08.parquet...\n",
      "Téléchargement du fichier yellow_tripdata/yellow_tripdata_2023-09.parquet...\n",
      "Téléchargement du fichier yellow_tripdata/yellow_tripdata_2023-10.parquet...\n",
      "Téléchargement du fichier yellow_tripdata/yellow_tripdata_2023-11.parquet...\n",
      "Téléchargement du fichier yellow_tripdata/yellow_tripdata_2023-12.parquet...\n",
      "Téléchargement du fichier yellow_tripdata/yellow_tripdata_2022-01.parquet...\n",
      "Téléchargement du fichier yellow_tripdata/yellow_tripdata_2022-02.parquet...\n",
      "Téléchargement du fichier yellow_tripdata/yellow_tripdata_2022-03.parquet...\n",
      "Téléchargement du fichier yellow_tripdata/yellow_tripdata_2022-04.parquet...\n",
      "Téléchargement du fichier yellow_tripdata/yellow_tripdata_2022-05.parquet...\n",
      "Téléchargement du fichier yellow_tripdata/yellow_tripdata_2022-06.parquet...\n",
      "Téléchargement du fichier yellow_tripdata/yellow_tripdata_2022-07.parquet...\n",
      "Téléchargement du fichier yellow_tripdata/yellow_tripdata_2022-08.parquet...\n",
      "Téléchargement du fichier yellow_tripdata/yellow_tripdata_2022-09.parquet...\n",
      "Téléchargement du fichier yellow_tripdata/yellow_tripdata_2022-10.parquet...\n",
      "Téléchargement du fichier yellow_tripdata/yellow_tripdata_2022-11.parquet...\n",
      "Téléchargement du fichier yellow_tripdata/yellow_tripdata_2022-12.parquet...\n",
      "Téléchargement du fichier yellow_tripdata/yellow_tripdata_2021-01.parquet...\n",
      "Téléchargement du fichier yellow_tripdata/yellow_tripdata_2021-02.parquet...\n",
      "Téléchargement du fichier yellow_tripdata/yellow_tripdata_2021-03.parquet...\n",
      "Téléchargement du fichier yellow_tripdata/yellow_tripdata_2021-04.parquet...\n",
      "Téléchargement du fichier yellow_tripdata/yellow_tripdata_2021-05.parquet...\n",
      "Téléchargement du fichier yellow_tripdata/yellow_tripdata_2021-06.parquet...\n",
      "Téléchargement du fichier yellow_tripdata/yellow_tripdata_2021-07.parquet...\n",
      "Téléchargement du fichier yellow_tripdata/yellow_tripdata_2021-08.parquet...\n",
      "Téléchargement du fichier yellow_tripdata/yellow_tripdata_2021-09.parquet...\n",
      "Téléchargement du fichier yellow_tripdata/yellow_tripdata_2021-10.parquet...\n",
      "Téléchargement du fichier yellow_tripdata/yellow_tripdata_2021-11.parquet...\n",
      "Téléchargement du fichier yellow_tripdata/yellow_tripdata_2021-12.parquet...\n",
      "Téléchargement du fichier yellow_tripdata/yellow_tripdata_2020-01.parquet...\n",
      "Téléchargement du fichier yellow_tripdata/yellow_tripdata_2020-02.parquet...\n",
      "Téléchargement du fichier yellow_tripdata/yellow_tripdata_2020-03.parquet...\n",
      "Téléchargement du fichier yellow_tripdata/yellow_tripdata_2020-04.parquet...\n",
      "Téléchargement du fichier yellow_tripdata/yellow_tripdata_2020-05.parquet...\n",
      "Téléchargement du fichier yellow_tripdata/yellow_tripdata_2020-06.parquet...\n",
      "Téléchargement du fichier yellow_tripdata/yellow_tripdata_2020-07.parquet...\n",
      "Téléchargement du fichier yellow_tripdata/yellow_tripdata_2020-08.parquet...\n",
      "Téléchargement du fichier yellow_tripdata/yellow_tripdata_2020-09.parquet...\n",
      "Téléchargement du fichier yellow_tripdata/yellow_tripdata_2020-10.parquet...\n",
      "Téléchargement du fichier yellow_tripdata/yellow_tripdata_2020-11.parquet...\n",
      "Téléchargement du fichier yellow_tripdata/yellow_tripdata_2020-12.parquet...\n",
      "Téléchargement du fichier yellow_tripdata/yellow_tripdata_2019-01.parquet...\n",
      "Téléchargement du fichier yellow_tripdata/yellow_tripdata_2019-02.parquet...\n",
      "Téléchargement du fichier yellow_tripdata/yellow_tripdata_2019-03.parquet...\n",
      "Téléchargement du fichier yellow_tripdata/yellow_tripdata_2019-04.parquet...\n",
      "Téléchargement du fichier yellow_tripdata/yellow_tripdata_2019-05.parquet...\n",
      "Téléchargement du fichier yellow_tripdata/yellow_tripdata_2019-06.parquet...\n",
      "Téléchargement du fichier yellow_tripdata/yellow_tripdata_2019-07.parquet...\n",
      "Téléchargement du fichier yellow_tripdata/yellow_tripdata_2019-08.parquet...\n",
      "Téléchargement du fichier yellow_tripdata/yellow_tripdata_2019-09.parquet...\n",
      "Téléchargement du fichier yellow_tripdata/yellow_tripdata_2019-10.parquet...\n",
      "Téléchargement du fichier yellow_tripdata/yellow_tripdata_2019-11.parquet...\n",
      "Téléchargement du fichier yellow_tripdata/yellow_tripdata_2019-12.parquet...\n",
      "Téléchargement du fichier yellow_tripdata/yellow_tripdata_2018-01.parquet...\n",
      "Téléchargement du fichier yellow_tripdata/yellow_tripdata_2018-02.parquet...\n",
      "Téléchargement du fichier yellow_tripdata/yellow_tripdata_2018-03.parquet...\n",
      "Téléchargement du fichier yellow_tripdata/yellow_tripdata_2018-04.parquet...\n",
      "Téléchargement du fichier yellow_tripdata/yellow_tripdata_2018-05.parquet...\n",
      "Téléchargement du fichier yellow_tripdata/yellow_tripdata_2018-06.parquet...\n",
      "Téléchargement du fichier yellow_tripdata/yellow_tripdata_2018-07.parquet...\n",
      "Téléchargement du fichier yellow_tripdata/yellow_tripdata_2018-08.parquet...\n",
      "Téléchargement du fichier yellow_tripdata/yellow_tripdata_2018-09.parquet...\n",
      "Téléchargement du fichier yellow_tripdata/yellow_tripdata_2018-10.parquet...\n",
      "Téléchargement du fichier yellow_tripdata/yellow_tripdata_2018-11.parquet...\n",
      "Téléchargement du fichier yellow_tripdata/yellow_tripdata_2018-12.parquet...\n",
      "Téléchargement du fichier yellow_tripdata/yellow_tripdata_2017-01.parquet...\n",
      "Téléchargement du fichier yellow_tripdata/yellow_tripdata_2017-02.parquet...\n",
      "Téléchargement du fichier yellow_tripdata/yellow_tripdata_2017-03.parquet...\n",
      "Téléchargement du fichier yellow_tripdata/yellow_tripdata_2017-04.parquet...\n",
      "Téléchargement du fichier yellow_tripdata/yellow_tripdata_2017-05.parquet...\n",
      "Téléchargement du fichier yellow_tripdata/yellow_tripdata_2017-06.parquet...\n",
      "Téléchargement du fichier yellow_tripdata/yellow_tripdata_2017-07.parquet...\n",
      "Téléchargement du fichier yellow_tripdata/yellow_tripdata_2017-08.parquet...\n",
      "Téléchargement du fichier yellow_tripdata/yellow_tripdata_2017-09.parquet...\n",
      "Téléchargement du fichier yellow_tripdata/yellow_tripdata_2017-10.parquet...\n",
      "Téléchargement du fichier yellow_tripdata/yellow_tripdata_2017-11.parquet...\n",
      "Téléchargement du fichier yellow_tripdata/yellow_tripdata_2017-12.parquet...\n",
      "Téléchargement du fichier yellow_tripdata/yellow_tripdata_2016-01.parquet...\n",
      "Téléchargement du fichier yellow_tripdata/yellow_tripdata_2016-02.parquet...\n",
      "Téléchargement du fichier yellow_tripdata/yellow_tripdata_2016-03.parquet...\n",
      "Téléchargement du fichier yellow_tripdata/yellow_tripdata_2016-04.parquet...\n",
      "Téléchargement du fichier yellow_tripdata/yellow_tripdata_2016-05.parquet...\n",
      "Téléchargement du fichier yellow_tripdata/yellow_tripdata_2016-06.parquet...\n",
      "Téléchargement du fichier yellow_tripdata/yellow_tripdata_2016-07.parquet...\n",
      "Téléchargement du fichier yellow_tripdata/yellow_tripdata_2016-08.parquet...\n",
      "Téléchargement du fichier yellow_tripdata/yellow_tripdata_2016-09.parquet...\n",
      "Téléchargement du fichier yellow_tripdata/yellow_tripdata_2016-10.parquet...\n",
      "Téléchargement du fichier yellow_tripdata/yellow_tripdata_2016-11.parquet...\n",
      "Téléchargement du fichier yellow_tripdata/yellow_tripdata_2016-12.parquet...\n",
      "Téléchargement du fichier yellow_tripdata/yellow_tripdata_2015-01.parquet...\n",
      "Téléchargement du fichier yellow_tripdata/yellow_tripdata_2015-02.parquet...\n",
      "Téléchargement du fichier yellow_tripdata/yellow_tripdata_2015-03.parquet...\n",
      "Téléchargement du fichier yellow_tripdata/yellow_tripdata_2015-04.parquet...\n",
      "Téléchargement du fichier yellow_tripdata/yellow_tripdata_2015-05.parquet...\n",
      "Téléchargement du fichier yellow_tripdata/yellow_tripdata_2015-06.parquet...\n",
      "Téléchargement du fichier yellow_tripdata/yellow_tripdata_2015-07.parquet...\n",
      "Téléchargement du fichier yellow_tripdata/yellow_tripdata_2015-08.parquet...\n",
      "Téléchargement du fichier yellow_tripdata/yellow_tripdata_2015-09.parquet...\n",
      "Téléchargement du fichier yellow_tripdata/yellow_tripdata_2015-10.parquet...\n",
      "Téléchargement du fichier yellow_tripdata/yellow_tripdata_2015-11.parquet...\n",
      "Téléchargement du fichier yellow_tripdata/yellow_tripdata_2015-12.parquet...\n",
      "Téléchargement du fichier yellow_tripdata/yellow_tripdata_2014-01.parquet...\n",
      "Téléchargement du fichier yellow_tripdata/yellow_tripdata_2014-02.parquet...\n",
      "Téléchargement du fichier yellow_tripdata/yellow_tripdata_2014-03.parquet...\n",
      "Téléchargement du fichier yellow_tripdata/yellow_tripdata_2014-04.parquet...\n",
      "Téléchargement du fichier yellow_tripdata/yellow_tripdata_2014-05.parquet...\n",
      "Téléchargement du fichier yellow_tripdata/yellow_tripdata_2014-06.parquet...\n",
      "Téléchargement du fichier yellow_tripdata/yellow_tripdata_2014-07.parquet...\n",
      "Téléchargement du fichier yellow_tripdata/yellow_tripdata_2014-08.parquet...\n",
      "Téléchargement du fichier yellow_tripdata/yellow_tripdata_2014-09.parquet...\n",
      "Téléchargement du fichier yellow_tripdata/yellow_tripdata_2014-10.parquet...\n",
      "Téléchargement du fichier yellow_tripdata/yellow_tripdata_2014-11.parquet...\n",
      "Téléchargement du fichier yellow_tripdata/yellow_tripdata_2014-12.parquet...\n",
      "Téléchargement du fichier yellow_tripdata/yellow_tripdata_2013-01.parquet...\n",
      "Téléchargement du fichier yellow_tripdata/yellow_tripdata_2013-02.parquet...\n",
      "Téléchargement du fichier yellow_tripdata/yellow_tripdata_2013-03.parquet...\n",
      "Téléchargement du fichier yellow_tripdata/yellow_tripdata_2013-04.parquet...\n",
      "Téléchargement du fichier yellow_tripdata/yellow_tripdata_2013-05.parquet...\n",
      "Téléchargement du fichier yellow_tripdata/yellow_tripdata_2013-06.parquet...\n",
      "Téléchargement du fichier yellow_tripdata/yellow_tripdata_2013-07.parquet...\n",
      "Téléchargement du fichier yellow_tripdata/yellow_tripdata_2013-08.parquet...\n",
      "Téléchargement du fichier yellow_tripdata/yellow_tripdata_2013-09.parquet...\n",
      "Téléchargement du fichier yellow_tripdata/yellow_tripdata_2013-10.parquet...\n",
      "Téléchargement du fichier yellow_tripdata/yellow_tripdata_2013-11.parquet...\n",
      "Téléchargement du fichier yellow_tripdata/yellow_tripdata_2013-12.parquet...\n",
      "Téléchargement du fichier yellow_tripdata/yellow_tripdata_2012-01.parquet...\n",
      "Téléchargement du fichier yellow_tripdata/yellow_tripdata_2012-02.parquet...\n",
      "Téléchargement du fichier yellow_tripdata/yellow_tripdata_2012-03.parquet...\n",
      "Téléchargement du fichier yellow_tripdata/yellow_tripdata_2012-04.parquet...\n",
      "Téléchargement du fichier yellow_tripdata/yellow_tripdata_2012-05.parquet...\n",
      "Téléchargement du fichier yellow_tripdata/yellow_tripdata_2012-06.parquet...\n"
     ]
    },
    {
     "ename": "KeyboardInterrupt",
     "evalue": "",
     "output_type": "error",
     "traceback": [
      "\u001b[1;31m---------------------------------------------------------------------------\u001b[0m",
      "\u001b[1;31mKeyboardInterrupt\u001b[0m                         Traceback (most recent call last)",
      "Cell \u001b[1;32mIn[20], line 12\u001b[0m\n\u001b[0;32m     10\u001b[0m response \u001b[38;5;241m=\u001b[39m requests\u001b[38;5;241m.\u001b[39mget(file_url, stream\u001b[38;5;241m=\u001b[39m\u001b[38;5;28;01mTrue\u001b[39;00m)\n\u001b[0;32m     11\u001b[0m \u001b[38;5;28;01mwith\u001b[39;00m \u001b[38;5;28mopen\u001b[39m(file_name, \u001b[38;5;124m'\u001b[39m\u001b[38;5;124mwb\u001b[39m\u001b[38;5;124m'\u001b[39m) \u001b[38;5;28;01mas\u001b[39;00m f:\n\u001b[1;32m---> 12\u001b[0m \u001b[43m    \u001b[49m\u001b[38;5;28;43;01mfor\u001b[39;49;00m\u001b[43m \u001b[49m\u001b[43mchunk\u001b[49m\u001b[43m \u001b[49m\u001b[38;5;129;43;01min\u001b[39;49;00m\u001b[43m \u001b[49m\u001b[43mresponse\u001b[49m\u001b[38;5;241;43m.\u001b[39;49m\u001b[43miter_content\u001b[49m\u001b[43m(\u001b[49m\u001b[43mchunk_size\u001b[49m\u001b[38;5;241;43m=\u001b[39;49m\u001b[38;5;241;43m1024\u001b[39;49m\u001b[43m)\u001b[49m\u001b[43m:\u001b[49m\n\u001b[0;32m     13\u001b[0m \u001b[43m        \u001b[49m\u001b[38;5;28;43;01mif\u001b[39;49;00m\u001b[43m \u001b[49m\u001b[43mchunk\u001b[49m\u001b[43m:\u001b[49m\n\u001b[0;32m     14\u001b[0m \u001b[43m            \u001b[49m\u001b[43mf\u001b[49m\u001b[38;5;241;43m.\u001b[39;49m\u001b[43mwrite\u001b[49m\u001b[43m(\u001b[49m\u001b[43mchunk\u001b[49m\u001b[43m)\u001b[49m\n",
      "File \u001b[1;32mc:\\Users\\Franck\\AppData\\Local\\Programs\\Python\\Python313\\Lib\\site-packages\\requests\\models.py:820\u001b[0m, in \u001b[0;36mResponse.iter_content.<locals>.generate\u001b[1;34m()\u001b[0m\n\u001b[0;32m    818\u001b[0m \u001b[38;5;28;01mif\u001b[39;00m \u001b[38;5;28mhasattr\u001b[39m(\u001b[38;5;28mself\u001b[39m\u001b[38;5;241m.\u001b[39mraw, \u001b[38;5;124m\"\u001b[39m\u001b[38;5;124mstream\u001b[39m\u001b[38;5;124m\"\u001b[39m):\n\u001b[0;32m    819\u001b[0m     \u001b[38;5;28;01mtry\u001b[39;00m:\n\u001b[1;32m--> 820\u001b[0m         \u001b[38;5;28;01myield from\u001b[39;00m \u001b[38;5;28mself\u001b[39m\u001b[38;5;241m.\u001b[39mraw\u001b[38;5;241m.\u001b[39mstream(chunk_size, decode_content\u001b[38;5;241m=\u001b[39m\u001b[38;5;28;01mTrue\u001b[39;00m)\n\u001b[0;32m    821\u001b[0m     \u001b[38;5;28;01mexcept\u001b[39;00m ProtocolError \u001b[38;5;28;01mas\u001b[39;00m e:\n\u001b[0;32m    822\u001b[0m         \u001b[38;5;28;01mraise\u001b[39;00m ChunkedEncodingError(e)\n",
      "File \u001b[1;32mc:\\Users\\Franck\\AppData\\Local\\Programs\\Python\\Python313\\Lib\\site-packages\\urllib3\\response.py:1060\u001b[0m, in \u001b[0;36mHTTPResponse.stream\u001b[1;34m(self, amt, decode_content)\u001b[0m\n\u001b[0;32m   1058\u001b[0m \u001b[38;5;28;01melse\u001b[39;00m:\n\u001b[0;32m   1059\u001b[0m     \u001b[38;5;28;01mwhile\u001b[39;00m \u001b[38;5;129;01mnot\u001b[39;00m is_fp_closed(\u001b[38;5;28mself\u001b[39m\u001b[38;5;241m.\u001b[39m_fp) \u001b[38;5;129;01mor\u001b[39;00m \u001b[38;5;28mlen\u001b[39m(\u001b[38;5;28mself\u001b[39m\u001b[38;5;241m.\u001b[39m_decoded_buffer) \u001b[38;5;241m>\u001b[39m \u001b[38;5;241m0\u001b[39m:\n\u001b[1;32m-> 1060\u001b[0m         data \u001b[38;5;241m=\u001b[39m \u001b[38;5;28;43mself\u001b[39;49m\u001b[38;5;241;43m.\u001b[39;49m\u001b[43mread\u001b[49m\u001b[43m(\u001b[49m\u001b[43mamt\u001b[49m\u001b[38;5;241;43m=\u001b[39;49m\u001b[43mamt\u001b[49m\u001b[43m,\u001b[49m\u001b[43m \u001b[49m\u001b[43mdecode_content\u001b[49m\u001b[38;5;241;43m=\u001b[39;49m\u001b[43mdecode_content\u001b[49m\u001b[43m)\u001b[49m\n\u001b[0;32m   1062\u001b[0m         \u001b[38;5;28;01mif\u001b[39;00m data:\n\u001b[0;32m   1063\u001b[0m             \u001b[38;5;28;01myield\u001b[39;00m data\n",
      "File \u001b[1;32mc:\\Users\\Franck\\AppData\\Local\\Programs\\Python\\Python313\\Lib\\site-packages\\urllib3\\response.py:949\u001b[0m, in \u001b[0;36mHTTPResponse.read\u001b[1;34m(self, amt, decode_content, cache_content)\u001b[0m\n\u001b[0;32m    946\u001b[0m     \u001b[38;5;28;01mif\u001b[39;00m \u001b[38;5;28mlen\u001b[39m(\u001b[38;5;28mself\u001b[39m\u001b[38;5;241m.\u001b[39m_decoded_buffer) \u001b[38;5;241m>\u001b[39m\u001b[38;5;241m=\u001b[39m amt:\n\u001b[0;32m    947\u001b[0m         \u001b[38;5;28;01mreturn\u001b[39;00m \u001b[38;5;28mself\u001b[39m\u001b[38;5;241m.\u001b[39m_decoded_buffer\u001b[38;5;241m.\u001b[39mget(amt)\n\u001b[1;32m--> 949\u001b[0m data \u001b[38;5;241m=\u001b[39m \u001b[38;5;28;43mself\u001b[39;49m\u001b[38;5;241;43m.\u001b[39;49m\u001b[43m_raw_read\u001b[49m\u001b[43m(\u001b[49m\u001b[43mamt\u001b[49m\u001b[43m)\u001b[49m\n\u001b[0;32m    951\u001b[0m flush_decoder \u001b[38;5;241m=\u001b[39m amt \u001b[38;5;129;01mis\u001b[39;00m \u001b[38;5;28;01mNone\u001b[39;00m \u001b[38;5;129;01mor\u001b[39;00m (amt \u001b[38;5;241m!=\u001b[39m \u001b[38;5;241m0\u001b[39m \u001b[38;5;129;01mand\u001b[39;00m \u001b[38;5;129;01mnot\u001b[39;00m data)\n\u001b[0;32m    953\u001b[0m \u001b[38;5;28;01mif\u001b[39;00m \u001b[38;5;129;01mnot\u001b[39;00m data \u001b[38;5;129;01mand\u001b[39;00m \u001b[38;5;28mlen\u001b[39m(\u001b[38;5;28mself\u001b[39m\u001b[38;5;241m.\u001b[39m_decoded_buffer) \u001b[38;5;241m==\u001b[39m \u001b[38;5;241m0\u001b[39m:\n",
      "File \u001b[1;32mc:\\Users\\Franck\\AppData\\Local\\Programs\\Python\\Python313\\Lib\\site-packages\\urllib3\\response.py:873\u001b[0m, in \u001b[0;36mHTTPResponse._raw_read\u001b[1;34m(self, amt, read1)\u001b[0m\n\u001b[0;32m    870\u001b[0m fp_closed \u001b[38;5;241m=\u001b[39m \u001b[38;5;28mgetattr\u001b[39m(\u001b[38;5;28mself\u001b[39m\u001b[38;5;241m.\u001b[39m_fp, \u001b[38;5;124m\"\u001b[39m\u001b[38;5;124mclosed\u001b[39m\u001b[38;5;124m\"\u001b[39m, \u001b[38;5;28;01mFalse\u001b[39;00m)\n\u001b[0;32m    872\u001b[0m \u001b[38;5;28;01mwith\u001b[39;00m \u001b[38;5;28mself\u001b[39m\u001b[38;5;241m.\u001b[39m_error_catcher():\n\u001b[1;32m--> 873\u001b[0m     data \u001b[38;5;241m=\u001b[39m \u001b[38;5;28;43mself\u001b[39;49m\u001b[38;5;241;43m.\u001b[39;49m\u001b[43m_fp_read\u001b[49m\u001b[43m(\u001b[49m\u001b[43mamt\u001b[49m\u001b[43m,\u001b[49m\u001b[43m \u001b[49m\u001b[43mread1\u001b[49m\u001b[38;5;241;43m=\u001b[39;49m\u001b[43mread1\u001b[49m\u001b[43m)\u001b[49m \u001b[38;5;28;01mif\u001b[39;00m \u001b[38;5;129;01mnot\u001b[39;00m fp_closed \u001b[38;5;28;01melse\u001b[39;00m \u001b[38;5;124mb\u001b[39m\u001b[38;5;124m\"\u001b[39m\u001b[38;5;124m\"\u001b[39m\n\u001b[0;32m    874\u001b[0m     \u001b[38;5;28;01mif\u001b[39;00m amt \u001b[38;5;129;01mis\u001b[39;00m \u001b[38;5;129;01mnot\u001b[39;00m \u001b[38;5;28;01mNone\u001b[39;00m \u001b[38;5;129;01mand\u001b[39;00m amt \u001b[38;5;241m!=\u001b[39m \u001b[38;5;241m0\u001b[39m \u001b[38;5;129;01mand\u001b[39;00m \u001b[38;5;129;01mnot\u001b[39;00m data:\n\u001b[0;32m    875\u001b[0m         \u001b[38;5;66;03m# Platform-specific: Buggy versions of Python.\u001b[39;00m\n\u001b[0;32m    876\u001b[0m         \u001b[38;5;66;03m# Close the connection when no data is returned\u001b[39;00m\n\u001b[1;32m   (...)\u001b[0m\n\u001b[0;32m    881\u001b[0m         \u001b[38;5;66;03m# not properly close the connection in all cases. There is\u001b[39;00m\n\u001b[0;32m    882\u001b[0m         \u001b[38;5;66;03m# no harm in redundantly calling close.\u001b[39;00m\n\u001b[0;32m    883\u001b[0m         \u001b[38;5;28mself\u001b[39m\u001b[38;5;241m.\u001b[39m_fp\u001b[38;5;241m.\u001b[39mclose()\n",
      "File \u001b[1;32mc:\\Users\\Franck\\AppData\\Local\\Programs\\Python\\Python313\\Lib\\site-packages\\urllib3\\response.py:856\u001b[0m, in \u001b[0;36mHTTPResponse._fp_read\u001b[1;34m(self, amt, read1)\u001b[0m\n\u001b[0;32m    853\u001b[0m     \u001b[38;5;28;01mreturn\u001b[39;00m \u001b[38;5;28mself\u001b[39m\u001b[38;5;241m.\u001b[39m_fp\u001b[38;5;241m.\u001b[39mread1(amt) \u001b[38;5;28;01mif\u001b[39;00m amt \u001b[38;5;129;01mis\u001b[39;00m \u001b[38;5;129;01mnot\u001b[39;00m \u001b[38;5;28;01mNone\u001b[39;00m \u001b[38;5;28;01melse\u001b[39;00m \u001b[38;5;28mself\u001b[39m\u001b[38;5;241m.\u001b[39m_fp\u001b[38;5;241m.\u001b[39mread1()\n\u001b[0;32m    854\u001b[0m \u001b[38;5;28;01melse\u001b[39;00m:\n\u001b[0;32m    855\u001b[0m     \u001b[38;5;66;03m# StringIO doesn't like amt=None\u001b[39;00m\n\u001b[1;32m--> 856\u001b[0m     \u001b[38;5;28;01mreturn\u001b[39;00m \u001b[38;5;28;43mself\u001b[39;49m\u001b[38;5;241;43m.\u001b[39;49m\u001b[43m_fp\u001b[49m\u001b[38;5;241;43m.\u001b[39;49m\u001b[43mread\u001b[49m\u001b[43m(\u001b[49m\u001b[43mamt\u001b[49m\u001b[43m)\u001b[49m \u001b[38;5;28;01mif\u001b[39;00m amt \u001b[38;5;129;01mis\u001b[39;00m \u001b[38;5;129;01mnot\u001b[39;00m \u001b[38;5;28;01mNone\u001b[39;00m \u001b[38;5;28;01melse\u001b[39;00m \u001b[38;5;28mself\u001b[39m\u001b[38;5;241m.\u001b[39m_fp\u001b[38;5;241m.\u001b[39mread()\n",
      "File \u001b[1;32mc:\\Users\\Franck\\AppData\\Local\\Programs\\Python\\Python313\\Lib\\http\\client.py:479\u001b[0m, in \u001b[0;36mHTTPResponse.read\u001b[1;34m(self, amt)\u001b[0m\n\u001b[0;32m    476\u001b[0m \u001b[38;5;28;01mif\u001b[39;00m \u001b[38;5;28mself\u001b[39m\u001b[38;5;241m.\u001b[39mlength \u001b[38;5;129;01mis\u001b[39;00m \u001b[38;5;129;01mnot\u001b[39;00m \u001b[38;5;28;01mNone\u001b[39;00m \u001b[38;5;129;01mand\u001b[39;00m amt \u001b[38;5;241m>\u001b[39m \u001b[38;5;28mself\u001b[39m\u001b[38;5;241m.\u001b[39mlength:\n\u001b[0;32m    477\u001b[0m     \u001b[38;5;66;03m# clip the read to the \"end of response\"\u001b[39;00m\n\u001b[0;32m    478\u001b[0m     amt \u001b[38;5;241m=\u001b[39m \u001b[38;5;28mself\u001b[39m\u001b[38;5;241m.\u001b[39mlength\n\u001b[1;32m--> 479\u001b[0m s \u001b[38;5;241m=\u001b[39m \u001b[38;5;28;43mself\u001b[39;49m\u001b[38;5;241;43m.\u001b[39;49m\u001b[43mfp\u001b[49m\u001b[38;5;241;43m.\u001b[39;49m\u001b[43mread\u001b[49m\u001b[43m(\u001b[49m\u001b[43mamt\u001b[49m\u001b[43m)\u001b[49m\n\u001b[0;32m    480\u001b[0m \u001b[38;5;28;01mif\u001b[39;00m \u001b[38;5;129;01mnot\u001b[39;00m s \u001b[38;5;129;01mand\u001b[39;00m amt:\n\u001b[0;32m    481\u001b[0m     \u001b[38;5;66;03m# Ideally, we would raise IncompleteRead if the content-length\u001b[39;00m\n\u001b[0;32m    482\u001b[0m     \u001b[38;5;66;03m# wasn't satisfied, but it might break compatibility.\u001b[39;00m\n\u001b[0;32m    483\u001b[0m     \u001b[38;5;28mself\u001b[39m\u001b[38;5;241m.\u001b[39m_close_conn()\n",
      "File \u001b[1;32mc:\\Users\\Franck\\AppData\\Local\\Programs\\Python\\Python313\\Lib\\socket.py:719\u001b[0m, in \u001b[0;36mSocketIO.readinto\u001b[1;34m(self, b)\u001b[0m\n\u001b[0;32m    717\u001b[0m     \u001b[38;5;28;01mraise\u001b[39;00m \u001b[38;5;167;01mOSError\u001b[39;00m(\u001b[38;5;124m\"\u001b[39m\u001b[38;5;124mcannot read from timed out object\u001b[39m\u001b[38;5;124m\"\u001b[39m)\n\u001b[0;32m    718\u001b[0m \u001b[38;5;28;01mtry\u001b[39;00m:\n\u001b[1;32m--> 719\u001b[0m     \u001b[38;5;28;01mreturn\u001b[39;00m \u001b[38;5;28;43mself\u001b[39;49m\u001b[38;5;241;43m.\u001b[39;49m\u001b[43m_sock\u001b[49m\u001b[38;5;241;43m.\u001b[39;49m\u001b[43mrecv_into\u001b[49m\u001b[43m(\u001b[49m\u001b[43mb\u001b[49m\u001b[43m)\u001b[49m\n\u001b[0;32m    720\u001b[0m \u001b[38;5;28;01mexcept\u001b[39;00m timeout:\n\u001b[0;32m    721\u001b[0m     \u001b[38;5;28mself\u001b[39m\u001b[38;5;241m.\u001b[39m_timeout_occurred \u001b[38;5;241m=\u001b[39m \u001b[38;5;28;01mTrue\u001b[39;00m\n",
      "File \u001b[1;32mc:\\Users\\Franck\\AppData\\Local\\Programs\\Python\\Python313\\Lib\\ssl.py:1304\u001b[0m, in \u001b[0;36mSSLSocket.recv_into\u001b[1;34m(self, buffer, nbytes, flags)\u001b[0m\n\u001b[0;32m   1300\u001b[0m     \u001b[38;5;28;01mif\u001b[39;00m flags \u001b[38;5;241m!=\u001b[39m \u001b[38;5;241m0\u001b[39m:\n\u001b[0;32m   1301\u001b[0m         \u001b[38;5;28;01mraise\u001b[39;00m \u001b[38;5;167;01mValueError\u001b[39;00m(\n\u001b[0;32m   1302\u001b[0m           \u001b[38;5;124m\"\u001b[39m\u001b[38;5;124mnon-zero flags not allowed in calls to recv_into() on \u001b[39m\u001b[38;5;132;01m%s\u001b[39;00m\u001b[38;5;124m\"\u001b[39m \u001b[38;5;241m%\u001b[39m\n\u001b[0;32m   1303\u001b[0m           \u001b[38;5;28mself\u001b[39m\u001b[38;5;241m.\u001b[39m\u001b[38;5;18m__class__\u001b[39m)\n\u001b[1;32m-> 1304\u001b[0m     \u001b[38;5;28;01mreturn\u001b[39;00m \u001b[38;5;28;43mself\u001b[39;49m\u001b[38;5;241;43m.\u001b[39;49m\u001b[43mread\u001b[49m\u001b[43m(\u001b[49m\u001b[43mnbytes\u001b[49m\u001b[43m,\u001b[49m\u001b[43m \u001b[49m\u001b[43mbuffer\u001b[49m\u001b[43m)\u001b[49m\n\u001b[0;32m   1305\u001b[0m \u001b[38;5;28;01melse\u001b[39;00m:\n\u001b[0;32m   1306\u001b[0m     \u001b[38;5;28;01mreturn\u001b[39;00m \u001b[38;5;28msuper\u001b[39m()\u001b[38;5;241m.\u001b[39mrecv_into(buffer, nbytes, flags)\n",
      "File \u001b[1;32mc:\\Users\\Franck\\AppData\\Local\\Programs\\Python\\Python313\\Lib\\ssl.py:1138\u001b[0m, in \u001b[0;36mSSLSocket.read\u001b[1;34m(self, len, buffer)\u001b[0m\n\u001b[0;32m   1136\u001b[0m \u001b[38;5;28;01mtry\u001b[39;00m:\n\u001b[0;32m   1137\u001b[0m     \u001b[38;5;28;01mif\u001b[39;00m buffer \u001b[38;5;129;01mis\u001b[39;00m \u001b[38;5;129;01mnot\u001b[39;00m \u001b[38;5;28;01mNone\u001b[39;00m:\n\u001b[1;32m-> 1138\u001b[0m         \u001b[38;5;28;01mreturn\u001b[39;00m \u001b[38;5;28;43mself\u001b[39;49m\u001b[38;5;241;43m.\u001b[39;49m\u001b[43m_sslobj\u001b[49m\u001b[38;5;241;43m.\u001b[39;49m\u001b[43mread\u001b[49m\u001b[43m(\u001b[49m\u001b[38;5;28;43mlen\u001b[39;49m\u001b[43m,\u001b[49m\u001b[43m \u001b[49m\u001b[43mbuffer\u001b[49m\u001b[43m)\u001b[49m\n\u001b[0;32m   1139\u001b[0m     \u001b[38;5;28;01melse\u001b[39;00m:\n\u001b[0;32m   1140\u001b[0m         \u001b[38;5;28;01mreturn\u001b[39;00m \u001b[38;5;28mself\u001b[39m\u001b[38;5;241m.\u001b[39m_sslobj\u001b[38;5;241m.\u001b[39mread(\u001b[38;5;28mlen\u001b[39m)\n",
      "\u001b[1;31mKeyboardInterrupt\u001b[0m: "
     ]
    }
   ],
   "source": [
    "#Script d'automatisation de la collete des données disponible à date depuis le site web.\n",
    "for Year in range(2024, 2009, -1):\n",
    "    for Month in range(1,13):\n",
    "        # url de téléchargement en fonction de l'année et du mois\n",
    "        file_url = f\"https://d37ci6vzurychx.cloudfront.net/trip-data/yellow_tripdata_{Year}-{Month:02d}.parquet\"\n",
    "        file_name = f\"yellow_tripdata/yellow_tripdata_{Year}-{Month:02d}.parquet\"\n",
    "        \n",
    "        # téléchargement du fichier\n",
    "        print(f\"Téléchargement du fichier {file_name}...\")\n",
    "        response = requests.get(file_url, stream=True)\n",
    "        with open(file_name, 'wb') as f:\n",
    "            for chunk in response.iter_content(chunk_size=1024):\n",
    "                if chunk:\n",
    "                    f.write(chunk)\n",
    "                else:\n",
    "                    print(f\"Impossible de télécharger {file_name}. Code de statut HTTP: {response.status_code}\")\n",
    "\n",
    "print(\"Téléchargement terminé!\")"
   ]
  },
  {
   "cell_type": "markdown",
   "metadata": {},
   "source": [
    "**Comptons le nombre total de fichiers téléchargés**"
   ]
  },
  {
   "cell_type": "code",
   "execution_count": 23,
   "metadata": {},
   "outputs": [
    {
     "data": {
      "text/plain": [
       "161"
      ]
     },
     "execution_count": 23,
     "metadata": {},
     "output_type": "execute_result"
    }
   ],
   "source": [
    "from os import listdir\n",
    "from os.path import isfile, join\n",
    "\n",
    "mypatch = \"./yellow_tripdata\"\n",
    "files = [f for f in listdir(mypatch) if isfile(join(mypatch, f))]\n",
    "len(files)"
   ]
  },
  {
   "cell_type": "markdown",
   "metadata": {},
   "source": [
    "#### Mise à jour du script de collecte de données \n",
    "\n",
    "* Les données sur les trajets seront publiées chaque mois, mais avec un retard de deux mois par rapport à la période couverte. Par exemple, les données pour Octobre 2024 ne seront publiées qu'en Décembre 2024.\n",
    "\n",
    "* Pour prendre en compte le fait que les données seront publiées mensuellement et pour maintenir la flexibilité du script, nous pouvons utiliser la date actuelle pour déterminer la fourchette des années à parcourir.\n",
    "\n",
    "***Voici la version mise à jour du script :***"
   ]
  },
  {
   "cell_type": "code",
   "execution_count": 30,
   "metadata": {},
   "outputs": [],
   "source": [
    "from datetime import datetime, timedelta\n"
   ]
  },
  {
   "cell_type": "code",
   "execution_count": null,
   "metadata": {},
   "outputs": [
    {
     "name": "stdout",
     "output_type": "stream",
     "text": [
      "Téléchargement du fichier yellow_tripdata_2/yellow_tripdata_2012-06.parquet...\n",
      "Téléchargement du fichier yellow_tripdata_2/yellow_tripdata_2012-06.parquet...\n",
      "Téléchargement du fichier yellow_tripdata_2/yellow_tripdata_2012-06.parquet...\n",
      "Téléchargement terminé!\n"
     ]
    }
   ],
   "source": [
    "# Fonction pour obtenir la date de la dernière publication dépendamment du jour actuel\n",
    "def previous_date_post():\n",
    "    today = datetime.today()\n",
    "    two_months_ago = today - timedelta(days=60)\n",
    "    return two_months_ago.strftime(\"%Y-%m\")\n",
    "\n",
    "\n",
    "# Année courante\n",
    "current_year = datetime.now().year\n",
    "current_month = datetime.now().month\n",
    "\n",
    "# Previous month\n",
    "previous_month = previous_date_post()\n",
    "\n",
    "# Mise à jour du script pour prendre en compte les données à venir\n",
    "for year in range(2024, current_year + 1):\n",
    "    for month in range(1, 13):\n",
    "        # Ignorer les mois antérieurs à la date actuelle moins 2 mois\n",
    "        if year == current_year and month > current_month:\n",
    "            continue\n",
    "        if f\"{year}-{month:02d}\" < previous_month:\n",
    "            continue\n",
    "\n",
    "       # url de téléchargement en fonction de l'année et du mois\n",
    "        file_url = f\"https://d37ci6vzurychx.cloudfront.net/trip-data/yellow_tripdata_{Year}-{Month:02d}.parquet\"\n",
    "        file_name = f\"yellow_tripdata/yellow_tripdata_{Year}-{Month:02d}.parquet\"\n",
    "        \n",
    "        # téléchargement du fichier\n",
    "        print(f\"Téléchargement du fichier {file_name}...\")\n",
    "        response = requests.get(file_url, stream=True)\n",
    "        with open(file_name, 'wb') as f:\n",
    "            for chunk in response.iter_content(chunk_size=1024):\n",
    "                if chunk:\n",
    "                    f.write(chunk)\n",
    "                else:\n",
    "                    print(f\"Impossible de télécharger {file_name}. Code de statut HTTP: {response.status_code}\")\n",
    "\n",
    "print(\"Téléchargement terminé!\")"
   ]
  }
 ],
 "metadata": {
  "kernelspec": {
   "display_name": "Python 3",
   "language": "python",
   "name": "python3"
  },
  "language_info": {
   "codemirror_mode": {
    "name": "ipython",
    "version": 3
   },
   "file_extension": ".py",
   "mimetype": "text/x-python",
   "name": "python",
   "nbconvert_exporter": "python",
   "pygments_lexer": "ipython3",
   "version": "3.13.0"
  }
 },
 "nbformat": 4,
 "nbformat_minor": 2
}
